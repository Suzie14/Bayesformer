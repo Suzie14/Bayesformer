{
 "cells": [
  {
   "cell_type": "markdown",
   "metadata": {},
   "source": [
    "# **Active learning comparison between the two models**"
   ]
  },
  {
   "cell_type": "markdown",
   "metadata": {},
   "source": [
    "## **Preliminary steps**"
   ]
  },
  {
   "cell_type": "code",
   "execution_count": null,
   "metadata": {},
   "outputs": [],
   "source": [
    "### PACKAGES\n",
    "\n",
    "import torch"
   ]
  },
  {
   "cell_type": "code",
   "execution_count": null,
   "metadata": {},
   "outputs": [],
   "source": [
    "### FUNCTIONS AND CLASSES\n",
    "\n",
    "from src.libs import preprocessing, visualization, utils\n",
    "from src.libs.tokenizer import ReversedPairingTokenizer\n",
    "from src.model.transformer import MyTransformer\n"
   ]
  },
  {
   "cell_type": "code",
   "execution_count": 3,
   "metadata": {},
   "outputs": [
    {
     "name": "stdout",
     "output_type": "stream",
     "text": [
      "Using device: cpu\n"
     ]
    }
   ],
   "source": [
    "### DEVICE\n",
    "\n",
    "DEVICE = torch.device(\"cuda\" if torch.cuda.is_available() else \"cpu\")\n",
    "\n",
    "print(f\"Using device: {DEVICE}\")"
   ]
  },
  {
   "cell_type": "markdown",
   "metadata": {},
   "source": [
    "## **Tokenizer**"
   ]
  },
  {
   "cell_type": "code",
   "execution_count": 4,
   "metadata": {},
   "outputs": [
    {
     "name": "stdout",
     "output_type": "stream",
     "text": [
      "Vocabulary size: 114\n"
     ]
    }
   ],
   "source": [
    "### CREATE TOKENIZER\n",
    "\n",
    "tokenizer = ReversedPairingTokenizer()\n",
    "VOCAB_SIZE = tokenizer.ntokens\n",
    "print(f\"Vocabulary size: {VOCAB_SIZE}\")"
   ]
  },
  {
   "cell_type": "markdown",
   "metadata": {},
   "source": [
    "## **Data**"
   ]
  },
  {
   "cell_type": "code",
   "execution_count": 5,
   "metadata": {},
   "outputs": [],
   "source": [
    "### CONSTANTS\n",
    "\n",
    "NUM_DIGITS = 3\n",
    "\n",
    "TRAIN_SIZE = 600\n",
    "VALID_SIZE = 100\n",
    "TEST_SIZE = 1000"
   ]
  },
  {
   "cell_type": "code",
   "execution_count": 6,
   "metadata": {},
   "outputs": [],
   "source": [
    "### CREATE DATASETS\n",
    "\n",
    "train_dataset = preprocessing.create_dataset(\n",
    "    nb_samples=TRAIN_SIZE, num_digits=NUM_DIGITS\n",
    ")\n",
    "\n",
    "valid_dataset = preprocessing.create_dataset(\n",
    "    nb_samples=VALID_SIZE, num_digits=NUM_DIGITS\n",
    ")\n",
    "\n",
    "test_dataset = preprocessing.create_dataset(nb_samples=TEST_SIZE, num_digits=NUM_DIGITS)"
   ]
  },
  {
   "cell_type": "markdown",
   "metadata": {},
   "source": [
    "## **MODELS**"
   ]
  },
  {
   "cell_type": "code",
   "execution_count": 7,
   "metadata": {},
   "outputs": [],
   "source": [
    "### ARCHITECTURE\n",
    "\n",
    "NB_LAYERS = 2\n",
    "NB_HEADS = 8\n",
    "EMBEDDING_DIMENSION = 64\n",
    "HEAD_SIZE = 8  # EMBEDDING_DIMENSION // NB_HEADS\n",
    "CONTEXT_LENGTH = 20\n",
    "HIDDEN_DIMENSION = 8\n",
    "DROPOUT_TRANSFORMER = 0.1\n",
    "DROPOUT_BAYESFORMER = 0.3"
   ]
  },
  {
   "cell_type": "code",
   "execution_count": 8,
   "metadata": {},
   "outputs": [
    {
     "name": "stdout",
     "output_type": "stream",
     "text": [
      "number of parameters: 50178\n"
     ]
    }
   ],
   "source": [
    "### TRANSFORMER\n",
    "\n",
    "transformer = MyTransformer(\n",
    "    ntoken=VOCAB_SIZE,\n",
    "    d_model=EMBEDDING_DIMENSION,\n",
    "    n_heads=NB_HEADS,\n",
    "    dim_feedforward=HIDDEN_DIMENSION,\n",
    "    nlayers=NB_LAYERS,\n",
    "    dropout=DROPOUT_TRANSFORMER,\n",
    ").to(DEVICE)\n",
    "\n",
    "print(\n",
    "    \"number of parameters: {}\".format(\n",
    "        sum([x.numel() for x in transformer.parameters()])\n",
    "    )\n",
    ")"
   ]
  },
  {
   "cell_type": "code",
   "execution_count": 9,
   "metadata": {},
   "outputs": [
    {
     "name": "stdout",
     "output_type": "stream",
     "text": [
      "number of parameters: 50178\n"
     ]
    }
   ],
   "source": [
    "### BAYESFORMER\n",
    "\n",
    "bayesformer = MyTransformer(\n",
    "    ntoken=VOCAB_SIZE,\n",
    "    d_model=EMBEDDING_DIMENSION,\n",
    "    n_heads=NB_HEADS,\n",
    "    dim_feedforward=HIDDEN_DIMENSION,\n",
    "    nlayers=NB_LAYERS,\n",
    "    bayes_dropout=DROPOUT_BAYESFORMER,\n",
    "    bayes=True,\n",
    ").to(DEVICE)\n",
    "\n",
    "print(\n",
    "    \"number of parameters: {}\".format(\n",
    "        sum([x.numel() for x in bayesformer.parameters()])\n",
    "    )\n",
    ")"
   ]
  },
  {
   "cell_type": "markdown",
   "metadata": {},
   "source": [
    "## **TRAINING**"
   ]
  },
  {
   "cell_type": "code",
   "execution_count": 10,
   "metadata": {},
   "outputs": [],
   "source": [
    "### CONSTANTS\n",
    "\n",
    "NB_EPOCHS = 5\n",
    "BATCH_SIZE = 20\n",
    "LEARNING_RATE = 1e-3\n",
    "\n",
    "assert (\n",
    "    TRAIN_SIZE % BATCH_SIZE == 0\n",
    "    and VALID_SIZE % BATCH_SIZE == 0\n",
    "    and TEST_SIZE % BATCH_SIZE == 0\n",
    "), \"BATCH_SIZE must be a divisor of TRAIN_SIZE, VALID_SIZE and TEST_SIZE\""
   ]
  },
  {
   "cell_type": "code",
   "execution_count": 11,
   "metadata": {},
   "outputs": [
    {
     "name": "stdout",
     "output_type": "stream",
     "text": [
      "EPOCH [1 / 5] ----------- TRAIN LOSS : 0.1793, VALID LOSS : 0.125486\n",
      "EPOCH [2 / 5] ----------- TRAIN LOSS : 0.1120, VALID LOSS : 0.099447\n",
      "EPOCH [3 / 5] ----------- TRAIN LOSS : 0.0953, VALID LOSS : 0.085083\n",
      "EPOCH [4 / 5] ----------- TRAIN LOSS : 0.0823, VALID LOSS : 0.077108\n",
      "EPOCH [5 / 5] ----------- TRAIN LOSS : 0.0764, VALID LOSS : 0.073957\n",
      "Best valid loss : 0.0740\n"
     ]
    }
   ],
   "source": [
    "### TRAIN TRANSFORMER\n",
    "\n",
    "train_losses_transformer, valid_losses_transformer = utils.train(\n",
    "    model=transformer,\n",
    "    train_dataset=train_dataset,\n",
    "    valid_dataset=valid_dataset,\n",
    "    nb_epochs=NB_EPOCHS,\n",
    "    batch_size=BATCH_SIZE,\n",
    "    lr=LEARNING_RATE,\n",
    "    vocab_size=VOCAB_SIZE,\n",
    "    tokenizer=tokenizer,\n",
    "    device=DEVICE,\n",
    ")"
   ]
  },
  {
   "cell_type": "code",
   "execution_count": 12,
   "metadata": {},
   "outputs": [
    {
     "name": "stdout",
     "output_type": "stream",
     "text": [
      "EPOCH [1 / 5] ----------- TRAIN LOSS : 0.2125, VALID LOSS : 0.161932\n",
      "EPOCH [2 / 5] ----------- TRAIN LOSS : 0.1383, VALID LOSS : 0.116038\n",
      "EPOCH [3 / 5] ----------- TRAIN LOSS : 0.1094, VALID LOSS : 0.101291\n",
      "EPOCH [4 / 5] ----------- TRAIN LOSS : 0.0988, VALID LOSS : 0.093376\n",
      "EPOCH [5 / 5] ----------- TRAIN LOSS : 0.0920, VALID LOSS : 0.088013\n",
      "Best valid loss : 0.0880\n"
     ]
    }
   ],
   "source": [
    "### TRAIN BAYESFORMER\n",
    "\n",
    "train_losses_bayesformer, valid_losses_bayesformer = utils.train(\n",
    "    model=bayesformer,\n",
    "    train_dataset=train_dataset,\n",
    "    valid_dataset=valid_dataset,\n",
    "    nb_epochs=NB_EPOCHS,\n",
    "    batch_size=BATCH_SIZE,\n",
    "    lr=LEARNING_RATE,\n",
    "    vocab_size=VOCAB_SIZE,\n",
    "    tokenizer=tokenizer,\n",
    "    device=DEVICE,\n",
    ")"
   ]
  },
  {
   "cell_type": "markdown",
   "metadata": {},
   "source": [
    "## **Plots**"
   ]
  },
  {
   "cell_type": "code",
   "execution_count": null,
   "metadata": {},
   "outputs": [
    {
     "data": {
      "image/png": "[encoded data removed]",
      "text/plain": [
       "<Figure size 1500x500 with 2 Axes>"
      ]
     },
     "metadata": {},
     "output_type": "display_data"
    }
   ],
   "source": [
    "visualization.plot_comparison_losses(\n",
    "    [train_losses_transformer, train_losses_bayesformer],\n",
    "    [valid_losses_transformer, valid_losses_bayesformer],\n",
    "    [\"Transformer\", \"Bayesformer\"],\n",
    "    True,\n",
    ")"
   ]
  },
  {
   "cell_type": "markdown",
   "metadata": {},
   "source": [
    "## **Evaluation**"
   ]
  },
  {
   "cell_type": "code",
   "execution_count": 14,
   "metadata": {},
   "outputs": [
    {
     "name": "stdout",
     "output_type": "stream",
     "text": [
      "Transformer accuracy on test set: 0.00\n",
      "433+66=997<EOS>\t actual result: 499\n",
      "143+380=1333\t actual result: 523\n",
      "601+524=1113<EOS>\t actual result: 1125\n",
      "313+184=1147\t actual result: 497\n",
      "948+181=1333<EOS>\t actual result: 1129\n"
     ]
    }
   ],
   "source": [
    "### EVALUATE TRANSFORMER\n",
    "\n",
    "accuracy_test_transformer = utils.evaluate(\n",
    "    model=transformer,\n",
    "    dataset=test_dataset,\n",
    "    tokenizer=tokenizer,\n",
    "    batch_size=BATCH_SIZE,\n",
    "    device=DEVICE,\n",
    ")\n",
    "print(f\"Transformer accuracy on test set: {accuracy_test_transformer:.2f}\")\n",
    "\n",
    "### EXAMPLES\n",
    "\n",
    "transformer.eval()\n",
    "\n",
    "for i in range(5):\n",
    "    prompt, answers = test_dataset[i]\n",
    "    prompt_tensor = torch.tensor(tokenizer.encode(prompt)).view((-1, 1))\n",
    "    output = utils.generate(transformer, prompt_tensor, len(answers) + 1, DEVICE).view(\n",
    "        (1, -1)\n",
    "    )\n",
    "    print(tokenizer.decode(output.tolist()[0]) + \"\\t actual result: \" + answers)"
   ]
  },
  {
   "cell_type": "code",
   "execution_count": 15,
   "metadata": {},
   "outputs": [
    {
     "name": "stdout",
     "output_type": "stream",
     "text": [
      "Bayesformer accuracy on test set: 0.00\n",
      "433+66=819<EOS>\t actual result: 499\n",
      "143+380=113<EOS>\t actual result: 523\n",
      "601+524=662<EOS><PAD>\t actual result: 1125\n",
      "313+184=1170\t actual result: 497\n",
      "948+181=129<EOS><PAD>\t actual result: 1129\n"
     ]
    }
   ],
   "source": [
    "### EVALUATE BAYESFORMER\n",
    "\n",
    "accuracy_test_bayesformer = utils.evaluate(\n",
    "    model=bayesformer,\n",
    "    dataset=test_dataset,\n",
    "    tokenizer=tokenizer,\n",
    "    batch_size=BATCH_SIZE,\n",
    "    device=DEVICE,\n",
    ")\n",
    "print(f\"Bayesformer accuracy on test set: {accuracy_test_bayesformer:.2f}\")\n",
    "\n",
    "### EXAMPLES\n",
    "\n",
    "bayesformer.eval()\n",
    "\n",
    "for i in range(5):\n",
    "    prompt, answers = test_dataset[i]\n",
    "    prompt_tensor = torch.tensor(tokenizer.encode(prompt)).view((-1, 1))\n",
    "    output = utils.generate(bayesformer, prompt_tensor, len(answers) + 1, DEVICE).view(\n",
    "        (1, -1)\n",
    "    )\n",
    "    print(tokenizer.decode(output.tolist()[0]) + \"\\t actual result: \" + answers)"
   ]
  }
 ],
 "metadata": {
  "kernelspec": {
   "display_name": "py310-all",
   "language": "python",
   "name": "python3"
  },
  "language_info": {
   "codemirror_mode": {
    "name": "ipython",
    "version": 3
   },
   "file_extension": ".py",
   "mimetype": "text/x-python",
   "name": "python",
   "nbconvert_exporter": "python",
   "pygments_lexer": "ipython3",
   "version": "3.10.0"
  }
 },
 "nbformat": 4,
 "nbformat_minor": 2
}
