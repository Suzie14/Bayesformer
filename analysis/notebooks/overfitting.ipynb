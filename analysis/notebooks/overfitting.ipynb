{
 "cells": [
  {
   "cell_type": "markdown",
   "metadata": {},
   "source": [
    "# **Active learning comparison between the two models**"
   ]
  },
  {
   "cell_type": "markdown",
   "metadata": {},
   "source": [
    "## **Preliminary steps**"
   ]
  },
  {
   "cell_type": "code",
   "execution_count": 16,
   "metadata": {},
   "outputs": [],
   "source": [
    "### PACKAGES\n",
    "\n",
    "import torch"
   ]
  },
  {
   "cell_type": "code",
   "execution_count": 17,
   "metadata": {},
   "outputs": [],
   "source": [
    "### FUNCTIONS AND CLASSES\n",
    "\n",
    "from src.libs import preprocessing, visualization, utils\n",
    "from src.libs.tokenizer import ReversedPairingTokenizer\n",
    "from src.model.transformer import MyTransformer"
   ]
  },
  {
   "cell_type": "code",
   "execution_count": 18,
   "metadata": {},
   "outputs": [
    {
     "name": "stdout",
     "output_type": "stream",
     "text": [
      "Using device: cpu\n"
     ]
    }
   ],
   "source": [
    "### DEVICE\n",
    "\n",
    "DEVICE = torch.device(\"cuda\" if torch.cuda.is_available() else \"cpu\")\n",
    "\n",
    "print(f\"Using device: {DEVICE}\")"
   ]
  },
  {
   "cell_type": "markdown",
   "metadata": {},
   "source": [
    "## **Tokenizer**"
   ]
  },
  {
   "cell_type": "code",
   "execution_count": 19,
   "metadata": {},
   "outputs": [
    {
     "name": "stdout",
     "output_type": "stream",
     "text": [
      "Vocabulary size: 114\n"
     ]
    }
   ],
   "source": [
    "### CREATE TOKENIZER\n",
    "\n",
    "tokenizer = ReversedPairingTokenizer()\n",
    "VOCAB_SIZE = tokenizer.ntokens\n",
    "print(f\"Vocabulary size: {VOCAB_SIZE}\")"
   ]
  },
  {
   "cell_type": "markdown",
   "metadata": {},
   "source": [
    "## **Data**"
   ]
  },
  {
   "cell_type": "code",
   "execution_count": 20,
   "metadata": {},
   "outputs": [],
   "source": [
    "### CONSTANTS\n",
    "\n",
    "NUM_DIGITS = 3\n",
    "\n",
    "TRAIN_SIZE = 300\n",
    "VALID_SIZE = 100\n",
    "TEST_SIZE = 1000"
   ]
  },
  {
   "cell_type": "code",
   "execution_count": 21,
   "metadata": {},
   "outputs": [],
   "source": [
    "### CREATE DATASETS\n",
    "\n",
    "train_dataset = preprocessing.create_dataset(\n",
    "    nb_samples=TRAIN_SIZE, num_digits=NUM_DIGITS\n",
    ")\n",
    "\n",
    "valid_dataset = preprocessing.create_dataset(\n",
    "    nb_samples=VALID_SIZE, num_digits=NUM_DIGITS\n",
    ")\n",
    "\n",
    "test_dataset = preprocessing.create_dataset(nb_samples=TEST_SIZE, num_digits=NUM_DIGITS)"
   ]
  },
  {
   "cell_type": "markdown",
   "metadata": {},
   "source": [
    "## **MODELS**"
   ]
  },
  {
   "cell_type": "code",
   "execution_count": 22,
   "metadata": {},
   "outputs": [],
   "source": [
    "### ARCHITECTURE\n",
    "\n",
    "NB_LAYERS = 2\n",
    "NB_HEADS = 8\n",
    "EMBEDDING_DIMENSION = 64\n",
    "HEAD_SIZE = 8  # EMBEDDING_DIMENSION // NB_HEADS\n",
    "CONTEXT_LENGTH = 20\n",
    "HIDDEN_DIMENSION = 8\n",
    "DROPOUT_TRANSFORMER = 0.1\n",
    "DROPOUT_BAYESFORMER = 0.3"
   ]
  },
  {
   "cell_type": "code",
   "execution_count": 23,
   "metadata": {},
   "outputs": [
    {
     "name": "stdout",
     "output_type": "stream",
     "text": [
      "number of parameters: 50178\n"
     ]
    }
   ],
   "source": [
    "### TRANSFORMER\n",
    "\n",
    "transformer = MyTransformer(\n",
    "    ntoken=VOCAB_SIZE,\n",
    "    d_model=EMBEDDING_DIMENSION,\n",
    "    n_heads=NB_HEADS,\n",
    "    dim_feedforward=HIDDEN_DIMENSION,\n",
    "    nlayers=NB_LAYERS,\n",
    "    dropout=DROPOUT_TRANSFORMER,\n",
    ").to(DEVICE)\n",
    "\n",
    "print(\n",
    "    \"number of parameters: {}\".format(\n",
    "        sum([x.numel() for x in transformer.parameters()])\n",
    "    )\n",
    ")"
   ]
  },
  {
   "cell_type": "code",
   "execution_count": 24,
   "metadata": {},
   "outputs": [
    {
     "name": "stdout",
     "output_type": "stream",
     "text": [
      "number of parameters: 50178\n"
     ]
    }
   ],
   "source": [
    "### BAYESFORMER\n",
    "\n",
    "bayesformer = MyTransformer(\n",
    "    ntoken=VOCAB_SIZE,\n",
    "    d_model=EMBEDDING_DIMENSION,\n",
    "    n_heads=NB_HEADS,\n",
    "    dim_feedforward=HIDDEN_DIMENSION,\n",
    "    nlayers=NB_LAYERS,\n",
    "    bayes_dropout=DROPOUT_BAYESFORMER,\n",
    "    bayes=True,\n",
    ").to(DEVICE)\n",
    "\n",
    "print(\n",
    "    \"number of parameters: {}\".format(\n",
    "        sum([x.numel() for x in bayesformer.parameters()])\n",
    "    )\n",
    ")"
   ]
  },
  {
   "cell_type": "markdown",
   "metadata": {},
   "source": [
    "## **TRAINING**"
   ]
  },
  {
   "cell_type": "code",
   "execution_count": 25,
   "metadata": {},
   "outputs": [],
   "source": [
    "### CONSTANTS\n",
    "\n",
    "NB_EPOCHS = 100\n",
    "BATCH_SIZE = 20\n",
    "LEARNING_RATE = 1e-3\n",
    "\n",
    "assert (\n",
    "    TRAIN_SIZE % BATCH_SIZE == 0\n",
    "    and VALID_SIZE % BATCH_SIZE == 0\n",
    "    and TEST_SIZE % BATCH_SIZE == 0\n",
    "), \"BATCH_SIZE must be a divisor of TRAIN_SIZE, VALID_SIZE and TEST_SIZE\""
   ]
  },
  {
   "cell_type": "code",
   "execution_count": 26,
   "metadata": {},
   "outputs": [
    {
     "name": "stdout",
     "output_type": "stream",
     "text": [
      "EPOCH [10 / 100] ----------- TRAIN LOSS : 0.0768, VALID LOSS : 0.075569\n",
      "EPOCH [20 / 100] ----------- TRAIN LOSS : 0.0566, VALID LOSS : 0.064126\n",
      "EPOCH [30 / 100] ----------- TRAIN LOSS : 0.0331, VALID LOSS : 0.062407\n",
      "EPOCH [40 / 100] ----------- TRAIN LOSS : 0.0223, VALID LOSS : 0.067786\n",
      "EPOCH [50 / 100] ----------- TRAIN LOSS : 0.0126, VALID LOSS : 0.077342\n",
      "EPOCH [60 / 100] ----------- TRAIN LOSS : 0.0104, VALID LOSS : 0.079977\n",
      "EPOCH [70 / 100] ----------- TRAIN LOSS : 0.0071, VALID LOSS : 0.081346\n",
      "EPOCH [80 / 100] ----------- TRAIN LOSS : 0.0058, VALID LOSS : 0.084326\n",
      "EPOCH [90 / 100] ----------- TRAIN LOSS : 0.0045, VALID LOSS : 0.085673\n",
      "EPOCH [100 / 100] ----------- TRAIN LOSS : 0.0048, VALID LOSS : 0.091232\n",
      "Best valid loss : 0.0604\n"
     ]
    }
   ],
   "source": [
    "### TRAIN TRANSFORMER\n",
    "\n",
    "train_losses_transformer, valid_losses_transformer = utils.train(\n",
    "    model=transformer,\n",
    "    train_dataset=train_dataset,\n",
    "    valid_dataset=valid_dataset,\n",
    "    nb_epochs=NB_EPOCHS,\n",
    "    batch_size=BATCH_SIZE,\n",
    "    lr=LEARNING_RATE,\n",
    "    vocab_size=VOCAB_SIZE,\n",
    "    tokenizer=tokenizer,\n",
    "    device=DEVICE,\n",
    ")"
   ]
  },
  {
   "cell_type": "code",
   "execution_count": 27,
   "metadata": {},
   "outputs": [
    {
     "name": "stdout",
     "output_type": "stream",
     "text": [
      "EPOCH [10 / 100] ----------- TRAIN LOSS : 0.0940, VALID LOSS : 0.092601\n",
      "EPOCH [20 / 100] ----------- TRAIN LOSS : 0.0776, VALID LOSS : 0.080408\n",
      "EPOCH [30 / 100] ----------- TRAIN LOSS : 0.0677, VALID LOSS : 0.072822\n",
      "EPOCH [40 / 100] ----------- TRAIN LOSS : 0.0588, VALID LOSS : 0.067179\n",
      "EPOCH [50 / 100] ----------- TRAIN LOSS : 0.0509, VALID LOSS : 0.066269\n",
      "EPOCH [60 / 100] ----------- TRAIN LOSS : 0.0467, VALID LOSS : 0.061380\n",
      "EPOCH [70 / 100] ----------- TRAIN LOSS : 0.0418, VALID LOSS : 0.060476\n",
      "EPOCH [80 / 100] ----------- TRAIN LOSS : 0.0372, VALID LOSS : 0.058074\n",
      "EPOCH [90 / 100] ----------- TRAIN LOSS : 0.0349, VALID LOSS : 0.059081\n",
      "EPOCH [100 / 100] ----------- TRAIN LOSS : 0.0337, VALID LOSS : 0.053011\n",
      "Best valid loss : 0.0509\n"
     ]
    }
   ],
   "source": [
    "### TRAIN BAYESFORMER\n",
    "\n",
    "train_losses_bayesformer, valid_losses_bayesformer = utils.train(\n",
    "    model=bayesformer,\n",
    "    train_dataset=train_dataset,\n",
    "    valid_dataset=valid_dataset,\n",
    "    nb_epochs=NB_EPOCHS,\n",
    "    batch_size=BATCH_SIZE,\n",
    "    lr=LEARNING_RATE,\n",
    "    vocab_size=VOCAB_SIZE,\n",
    "    tokenizer=tokenizer,\n",
    "    device=DEVICE,\n",
    ")"
   ]
  },
  {
   "cell_type": "markdown",
   "metadata": {},
   "source": [
    "## **Plots**"
   ]
  },
  {
   "cell_type": "code",
   "execution_count": 28,
   "metadata": {},
   "outputs": [
    {
     "data": {
      "image/png": "[encoded data removed]",
      "text/plain": [
       "<Figure size 1500x500 with 2 Axes>"
      ]
     },
     "metadata": {},
     "output_type": "display_data"
    }
   ],
   "source": [
    "visualization.plot_comparison_losses(\n",
    "    [train_losses_transformer, train_losses_bayesformer],\n",
    "    [valid_losses_transformer, valid_losses_bayesformer],\n",
    "    [\"Transformer\", \"Bayesformer\"],\n",
    "    True,\n",
    ")"
   ]
  },
  {
   "cell_type": "markdown",
   "metadata": {},
   "source": [
    "## **Evaluation**"
   ]
  },
  {
   "cell_type": "code",
   "execution_count": 29,
   "metadata": {},
   "outputs": [
    {
     "name": "stdout",
     "output_type": "stream",
     "text": [
      "Transformer accuracy on test set: 0.12\n",
      "567+188=1675\t actual result: 755\n",
      "200+532=752<EOS>\t actual result: 732\n",
      "351+661=1022<EOS>\t actual result: 1012\n",
      "403+509=622<EOS>\t actual result: 912\n",
      "250+108=358<EOS>\t actual result: 358\n"
     ]
    }
   ],
   "source": [
    "### EVALUATE TRANSFORMER\n",
    "\n",
    "accuracy_test_transformer = utils.evaluate(\n",
    "    model=transformer,\n",
    "    dataset=test_dataset,\n",
    "    tokenizer=tokenizer,\n",
    "    batch_size=BATCH_SIZE,\n",
    "    device=DEVICE,\n",
    ")\n",
    "print(f\"Transformer accuracy on test set: {accuracy_test_transformer:.2f}\")\n",
    "\n",
    "### EXAMPLES\n",
    "\n",
    "transformer.eval()\n",
    "\n",
    "for i in range(5):\n",
    "    prompt, answers = test_dataset[i]\n",
    "    prompt_tensor = torch.tensor(tokenizer.encode(prompt)).view((-1, 1))\n",
    "    output = utils.generate(transformer, prompt_tensor, len(answers) + 1, DEVICE).view(\n",
    "        (1, -1)\n",
    "    )\n",
    "    print(tokenizer.decode(output.tolist()[0]) + \"\\t actual result: \" + answers)"
   ]
  },
  {
   "cell_type": "code",
   "execution_count": 30,
   "metadata": {},
   "outputs": [
    {
     "name": "stdout",
     "output_type": "stream",
     "text": [
      "Bayesformer accuracy on test set: 0.10\n",
      "567+188=1645\t actual result: 755\n",
      "200+532=572<EOS>\t actual result: 732\n",
      "351+661=1492<EOS>\t actual result: 1012\n",
      "403+509=303<EOS>\t actual result: 912\n",
      "250+108=358<EOS>\t actual result: 358\n"
     ]
    }
   ],
   "source": [
    "### EVALUATE BAYESFORMER\n",
    "\n",
    "accuracy_test_bayesformer = utils.evaluate(\n",
    "    model=bayesformer,\n",
    "    dataset=test_dataset,\n",
    "    tokenizer=tokenizer,\n",
    "    batch_size=BATCH_SIZE,\n",
    "    device=DEVICE,\n",
    ")\n",
    "print(f\"Bayesformer accuracy on test set: {accuracy_test_bayesformer:.2f}\")\n",
    "\n",
    "### EXAMPLES\n",
    "\n",
    "bayesformer.eval()\n",
    "\n",
    "for i in range(5):\n",
    "    prompt, answers = test_dataset[i]\n",
    "    prompt_tensor = torch.tensor(tokenizer.encode(prompt)).view((-1, 1))\n",
    "    output = utils.generate(bayesformer, prompt_tensor, len(answers) + 1, DEVICE).view(\n",
    "        (1, -1)\n",
    "    )\n",
    "    print(tokenizer.decode(output.tolist()[0]) + \"\\t actual result: \" + answers)"
   ]
  }
 ],
 "metadata": {
  "kernelspec": {
   "display_name": "py310-all",
   "language": "python",
   "name": "python3"
  },
  "language_info": {
   "codemirror_mode": {
    "name": "ipython",
    "version": 3
   },
   "file_extension": ".py",
   "mimetype": "text/x-python",
   "name": "python",
   "nbconvert_exporter": "python",
   "pygments_lexer": "ipython3",
   "version": "3.10.0"
  }
 },
 "nbformat": 4,
 "nbformat_minor": 2
}
